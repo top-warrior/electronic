{
 "cells": [
  {
   "cell_type": "markdown",
   "id": "13be1146",
   "metadata": {},
   "source": [
    "# 1. 어떤 데이터 사용할건지결정\n",
    "\n",
    "train.csv랑 test.csv이런 파일이 많아서 얻ㄴ거 사영할지를 ㄱㅁㄷ자ㅣ럼ㅈ딜\n",
    "결측해봣따~\n"
   ]
  },
  {
   "cell_type": "code",
   "execution_count": 1,
   "id": "f96270c6",
   "metadata": {},
   "outputs": [
    {
     "ename": "NameError",
     "evalue": "name '코드준허어' is not defined",
     "output_type": "error",
     "traceback": [
      "\u001b[1;31m---------------------------------------------------------------------------\u001b[0m",
      "\u001b[1;31mNameError\u001b[0m                                 Traceback (most recent call last)",
      "\u001b[1;32m~\\AppData\\Local\\Temp/ipykernel_11744/1276116816.py\u001b[0m in \u001b[0;36m<module>\u001b[1;34m\u001b[0m\n\u001b[1;32m----> 1\u001b[1;33m \u001b[0m코드준허어\u001b[0m\u001b[1;33m\u001b[0m\u001b[1;33m\u001b[0m\u001b[0m\n\u001b[0m",
      "\u001b[1;31mNameError\u001b[0m: name '코드준허어' is not defined"
     ]
    }
   ],
   "source": [
    "코드준허어"
   ]
  },
  {
   "cell_type": "markdown",
   "id": "7005e565",
   "metadata": {},
   "source": [
    "# 2. 전처리로 날씨컬럼 추가 + 영문변경"
   ]
  },
  {
   "cell_type": "code",
   "execution_count": null,
   "id": "e4db3134",
   "metadata": {},
   "outputs": [],
   "source": []
  },
  {
   "cell_type": "markdown",
   "id": "5636879a",
   "metadata": {},
   "source": [
    "# 3. 4.5."
   ]
  }
 ],
 "metadata": {
  "kernelspec": {
   "display_name": "Python 3 (ipykernel)",
   "language": "python",
   "name": "python3"
  },
  "language_info": {
   "codemirror_mode": {
    "name": "ipython",
    "version": 3
   },
   "file_extension": ".py",
   "mimetype": "text/x-python",
   "name": "python",
   "nbconvert_exporter": "python",
   "pygments_lexer": "ipython3",
   "version": "3.9.7"
  }
 },
 "nbformat": 4,
 "nbformat_minor": 5
}
