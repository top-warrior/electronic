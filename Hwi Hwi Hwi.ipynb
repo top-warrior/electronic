{
 "cells": [
  {
   "cell_type": "code",
   "execution_count": 3,
   "id": "d27c1fb8",
   "metadata": {},
   "outputs": [],
   "source": [
    "import numpy as np\n",
    "import pandas as pd\n",
    "import warnings\n",
    "\n",
    "# EDA 라이브러리\n",
    "import matplotlib.pyplot as plt\n",
    "import seaborn as sns\n",
    "import statsmodels.api as sm\n",
    "import scipy.stats\n",
    "from scipy.stats import skew\n",
    "from scipy.stats import spearmanr\n",
    "\n",
    "# Learning algorithms\n",
    "import sklearn\n",
    "from sklearn.linear_model import *\n",
    "from sklearn.svm import SVR\n",
    "from sklearn.cluster import KMeans\n"
   ]
  },
  {
   "cell_type": "code",
   "execution_count": 4,
   "id": "47a3dd42",
   "metadata": {},
   "outputs": [],
   "source": [
    "train_df = pd.read_csv('data/train.csv')\n",
    "test_df = pd.read_csv('data/test.csv')\n",
    "ss = pd.read_csv('data/sample_submission.csv')"
   ]
  },
  {
   "cell_type": "code",
   "execution_count": null,
   "id": "56b771b6",
   "metadata": {},
   "outputs": [],
   "source": [
    "# 컬럼명 영문으로 변경하기\n",
    "train_df.columns = ['num','datetime','target','temperature','windspeed','humidity','precipitation','insolation','nelec_cool_flag','solar_flag']\n",
    "test_df.columns = ['num','datetime','temperature','windspeed','humidity','precipitation','insolation','nelec_cool_flag','solar_flag']"
   ]
  },
  {
   "cell_type": "code",
   "execution_count": null,
   "id": "4dc4f99e",
   "metadata": {},
   "outputs": [],
   "source": [
    "train_df.shape"
   ]
  },
  {
   "cell_type": "code",
   "execution_count": null,
   "id": "b4c3a9de",
   "metadata": {},
   "outputs": [],
   "source": [
    "train_df.head()"
   ]
  },
  {
   "cell_type": "markdown",
   "id": "6e58985f",
   "metadata": {},
   "source": [
    "비가 오는 날과 맑은 날의 전력 사용량에 차이가 날 것 이라 생각이 들었고, 날씨와 전력 사용량의 상관 관계를 알아보면 좋겠다는 생각이 들었습니다.\n",
    "\n",
    "그래서 weather이라는 컬럼을 새로 만들고, 비오는 날을 0, 흐린 날을 0.5, 맑은 날을 1로 값을 주었습니다.\n",
    "\n",
    "- 비오는날\n",
    "    - 강수량 > 0\n",
    "- 흐린 날\n",
    "    - 강수량 = 0, 일조량\n",
    "- 맑은 날\n",
    "    - 강수량 = 0, 일조량 = 1\n",
    "    - 강수량 = 0, 일조량 = 0 , 습도 \n",
    "    \n",
    "흐린 날과, 맑은 날의 데이터를 뽑기 위해 일조량과 습도를 알아내고 싶었습니다.\n",
    "\n",
    "그래서 비오는 날의 dataframe과 비가 오지 않는 날의 dataframe을 뽑아내고, 습도, 강수량, 일조에 대한 데이터를 뽑아 보았습니다."
   ]
  },
  {
   "cell_type": "code",
   "execution_count": null,
   "id": "79207982",
   "metadata": {},
   "outputs": [],
   "source": [
    "rainy_df = train_df[train_df['precipitation']>0]\n",
    "\n",
    "print(rainy_df.shape)"
   ]
  },
  {
   "cell_type": "code",
   "execution_count": null,
   "id": "8a3d1ea6",
   "metadata": {},
   "outputs": [],
   "source": [
    "not_rainy_df = train_df[train_df['precipitation']==0]\n",
    "\n",
    "print(not_rainy_df.shape)"
   ]
  },
  {
   "cell_type": "markdown",
   "id": "049955b3",
   "metadata": {},
   "source": [
    "122400개의 데이터 중, 비가 오는 data는 18927개, 비가 오지 않는 data는 103473개가 있습니다.\n",
    "\n",
    "비오는날의 일조량, 습도를 뽑아 보는데, 해가 뜬 시간과 해가 저문 시간에 따라 일조량과 습도가 다를 것 같아, 06\\~18시 까지는 day time, 00\\~06, 18\\~23는 night time으로 나누어 일조량과 습도를 뽑아보았습니다.\n",
    "\n",
    "# daytime에서 RainyDay 일조량, 습도 데이터"
   ]
  },
  {
   "cell_type": "code",
   "execution_count": null,
   "id": "401ca8ae",
   "metadata": {},
   "outputs": [],
   "source": [
    "daytime_rainy_df = rainy"
   ]
  },
  {
   "cell_type": "code",
   "execution_count": null,
   "id": "79010148",
   "metadata": {},
   "outputs": [],
   "source": []
  },
  {
   "cell_type": "code",
   "execution_count": null,
   "id": "f000ff43",
   "metadata": {},
   "outputs": [],
   "source": []
  }
 ],
 "metadata": {
  "kernelspec": {
   "display_name": "Python 3 (ipykernel)",
   "language": "python",
   "name": "python3"
  },
  "language_info": {
   "codemirror_mode": {
    "name": "ipython",
    "version": 3
   },
   "file_extension": ".py",
   "mimetype": "text/x-python",
   "name": "python",
   "nbconvert_exporter": "python",
   "pygments_lexer": "ipython3",
   "version": "3.9.7"
  }
 },
 "nbformat": 4,
 "nbformat_minor": 5
}
